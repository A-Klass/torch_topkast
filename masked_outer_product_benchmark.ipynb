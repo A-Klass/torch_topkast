{
    "cells": [
        {
            "cell_type": "code",
            "execution_count": 1,
            "source": [
                "import torch\r\n",
                "import numpy as np"
            ],
            "outputs": [],
            "metadata": {}
        },
        {
            "cell_type": "code",
            "execution_count": 2,
            "source": [
                "# institate testing vectors\r\n",
                "size = 10000\r\n",
                "mask_size = int(np.round(size * size * 0.01))\r\n",
                "x = torch.rand((size, 1))\r\n",
                "y = torch.rand((1, size))"
            ],
            "outputs": [],
            "metadata": {}
        },
        {
            "cell_type": "code",
            "execution_count": 2,
            "source": [
                "def compute_mask(w, topk_percentage):\r\n",
                "    threshold = np.quantile(w.reshape(-1), topk_percentage)\r\n",
                "    mask = np.where(w >= threshold)\r\n",
                "    return mask"
            ],
            "outputs": [],
            "metadata": {}
        },
        {
            "cell_type": "code",
            "execution_count": 4,
            "source": [
                "m = x.mm(y)\r\n",
                "mask = compute_mask(m, 0.99)"
            ],
            "outputs": [],
            "metadata": {}
        },
        {
            "cell_type": "code",
            "execution_count": 19,
            "source": [
                "def masked_outer_product(x, y, mask):\r\n",
                "    values = torch.zeros(len(mask[0]))\r\n",
                "    x = x.reshape(-1)\r\n",
                "    y = y.reshape(-1)\r\n",
                "    for i in range(len(mask[0])):\r\n",
                "        values[i] = x[mask[0][i]] * y[mask[1][0]]\r\n",
                "    \r\n",
                "    return torch.sparse_coo_tensor(mask, values, (len(x), len(y)))\r\n",
                "        "
            ],
            "outputs": [],
            "metadata": {}
        },
        {
            "cell_type": "code",
            "execution_count": 30,
            "source": [
                "%timeit masked_outer_product(x, y, mask)"
            ],
            "outputs": [
                {
                    "output_type": "stream",
                    "name": "stdout",
                    "text": [
                        "8.89 s ± 97.7 ms per loop (mean ± std. dev. of 7 runs, 1 loop each)\n"
                    ]
                }
            ],
            "metadata": {}
        },
        {
            "cell_type": "code",
            "execution_count": 31,
            "source": [
                "%timeit m = x.mm(y)\r\n",
                "# torch.sparse_coo_tensor(mask, m[mask], m.shape)"
            ],
            "outputs": [
                {
                    "output_type": "stream",
                    "name": "stdout",
                    "text": [
                        "132 ms ± 2.01 ms per loop (mean ± std. dev. of 7 runs, 10 loops each)\n"
                    ]
                }
            ],
            "metadata": {}
        },
        {
            "cell_type": "markdown",
            "source": [
                "# Benchmarkig torch.sparse vs elementwise masking"
            ],
            "metadata": {}
        },
        {
            "cell_type": "code",
            "execution_count": 11,
            "source": [
                "size = 128\r\n",
                "mat1 = torch.rand((size, size))\r\n",
                "vec_mask = compute_mask(mat1, 0.99)\r\n",
                "vector = torch.rand((size, 1))\r\n",
                "mat1_mask = torch.zeros_like(mat1)\r\n",
                "sparse_mat1 = torch.sparse_coo_tensor(vec_mask, mat1[vec_mask], mat1.shape)"
            ],
            "outputs": [],
            "metadata": {}
        },
        {
            "cell_type": "code",
            "execution_count": 13,
            "source": [
                "%timeit mat1_mask = torch.zeros_like(mat1)\r\n",
                "%timeit mat1_mask[vec_mask] = 1\r\n",
                "%timeit (mat1 * mat1_mask).mm(vector)"
            ],
            "outputs": [
                {
                    "output_type": "stream",
                    "name": "stdout",
                    "text": [
                        "3.55 µs ± 41.2 ns per loop (mean ± std. dev. of 7 runs, 100000 loops each)\n",
                        "14.9 µs ± 775 ns per loop (mean ± std. dev. of 7 runs, 100000 loops each)\n",
                        "8.48 µs ± 259 ns per loop (mean ± std. dev. of 7 runs, 100000 loops each)\n"
                    ]
                }
            ],
            "metadata": {}
        },
        {
            "cell_type": "code",
            "execution_count": 14,
            "source": [
                "%timeit sparse_mat1 = torch.sparse_coo_tensor(vec_mask, mat1[vec_mask], mat1.shape)\r\n",
                "%timeit sparse_mat1.mm(vector)"
            ],
            "outputs": [
                {
                    "output_type": "stream",
                    "name": "stdout",
                    "text": [
                        "72.7 µs ± 682 ns per loop (mean ± std. dev. of 7 runs, 10000 loops each)\n",
                        "7.37 µs ± 78.3 ns per loop (mean ± std. dev. of 7 runs, 100000 loops each)\n"
                    ]
                }
            ],
            "metadata": {}
        },
        {
            "cell_type": "markdown",
            "source": [
                "Making sparse matrices is really costly, but once they are made multiplying with them is probably faster than masking elementwise."
            ],
            "metadata": {}
        },
        {
            "cell_type": "markdown",
            "source": [
                "# Testing sparse out by blowing up both vectors"
            ],
            "metadata": {}
        },
        {
            "cell_type": "code",
            "execution_count": 30,
            "source": [
                "size = 1000\r\n",
                "x = torch.rand(size)\r\n",
                "y = torch.rand(size)\r\n",
                "m = x.reshape((-1,1)).mm(y.reshape(1, -1))\r\n",
                "vec_mask = compute_mask(m, 0.99)\r\n",
                "m_mask = torch.zeros_like(m)\r\n",
                "m_mask[vec_mask] = 1"
            ],
            "outputs": [],
            "metadata": {}
        },
        {
            "cell_type": "code",
            "execution_count": 22,
            "source": [
                "x_mat = x.repeat((size, 1))"
            ],
            "outputs": [],
            "metadata": {}
        },
        {
            "cell_type": "code",
            "execution_count": 23,
            "source": [
                "x_mat.mul(y)"
            ],
            "outputs": [
                {
                    "output_type": "execute_result",
                    "data": {
                        "text/plain": [
                            "tensor([[0.7931, 0.5761, 0.1189,  ..., 0.0296, 0.0773, 0.0324],\n",
                            "        [0.7931, 0.5761, 0.1189,  ..., 0.0296, 0.0773, 0.0324],\n",
                            "        [0.7931, 0.5761, 0.1189,  ..., 0.0296, 0.0773, 0.0324],\n",
                            "        ...,\n",
                            "        [0.7931, 0.5761, 0.1189,  ..., 0.0296, 0.0773, 0.0324],\n",
                            "        [0.7931, 0.5761, 0.1189,  ..., 0.0296, 0.0773, 0.0324],\n",
                            "        [0.7931, 0.5761, 0.1189,  ..., 0.0296, 0.0773, 0.0324]])"
                        ]
                    },
                    "metadata": {},
                    "execution_count": 23
                }
            ],
            "metadata": {}
        },
        {
            "cell_type": "code",
            "execution_count": 32,
            "source": [
                "torch.outer(x, y, out = m_mask)"
            ],
            "outputs": [
                {
                    "output_type": "execute_result",
                    "data": {
                        "text/plain": [
                            "tensor([[0.4847, 0.4041, 0.3672,  ..., 0.5377, 0.4112, 0.1065],\n",
                            "        [0.7746, 0.6457, 0.5868,  ..., 0.8593, 0.6572, 0.1702],\n",
                            "        [0.2605, 0.2172, 0.1973,  ..., 0.2890, 0.2210, 0.0572],\n",
                            "        ...,\n",
                            "        [0.4132, 0.3444, 0.3130,  ..., 0.4583, 0.3505, 0.0908],\n",
                            "        [0.5005, 0.4173, 0.3792,  ..., 0.5553, 0.4246, 0.1100],\n",
                            "        [0.8659, 0.7218, 0.6559,  ..., 0.9606, 0.7346, 0.1902]])"
                        ]
                    },
                    "metadata": {},
                    "execution_count": 32
                }
            ],
            "metadata": {}
        }
    ],
    "metadata": {
        "orig_nbformat": 4,
        "language_info": {
            "name": "python",
            "version": "3.8.8",
            "mimetype": "text/x-python",
            "codemirror_mode": {
                "name": "ipython",
                "version": 3
            },
            "pygments_lexer": "ipython3",
            "nbconvert_exporter": "python",
            "file_extension": ".py"
        },
        "kernelspec": {
            "name": "python3",
            "display_name": "Python 3.8.8 64-bit ('d2l': conda)"
        },
        "interpreter": {
            "hash": "da58119ef26f23e2d8474827559c39ae1ad354e1ce6ad588fd4f90d2accc97d7"
        }
    },
    "nbformat": 4,
    "nbformat_minor": 2
}